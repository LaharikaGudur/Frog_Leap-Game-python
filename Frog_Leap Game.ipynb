{
  "cells": [
    {
      "cell_type": "code",
      "execution_count": null,
      "metadata": {
        "colab": {
          "background_save": true,
          "base_uri": "https://localhost:8080/"
        },
        "id": "SoCbO7sxvYJL",
        "outputId": "1895d334-f806-45e6-a8fe-0dff7d1fc4ef"
      },
      "outputs": [
        {
          "name": "stdout",
          "output_type": "stream",
          "text": [
            "[0     1    2    3    4    5    6]\n",
            "['G', 'G', 'G', '-', 'B', 'B', 'B']\n"
          ]
        }
      ],
      "source": [
        "# step 1:Initialize the positions of a list\n",
        "positions = ['G','G','G','-','B','B','B']\n",
        "\n",
        "# step 2: Display the initial state of a game\n",
        "print(\"[0     1    2    3    4    5    6]\")\n",
        "print(positions)\n",
        "\n",
        "#Game loop\n",
        "while True:\n",
        "  # step 3: Take a position input from user\n",
        "  move = input(\"Press q to quit else \\nEnter position of piece:\")\n",
        "\n",
        "  # step 4: Check quit condition\n",
        "  if move.lower()=='q':\n",
        "    print(\"You Lose\")\n",
        "    break\n",
        "\n",
        "  # step 5: Convert input into integer format\n",
        "  move = int(move)\n",
        "\n",
        "  # step 6 : check for valid condition\n",
        "  if move < 0 or move > 6:\n",
        "    print(\"Invalid move\")\n",
        "    continue\n",
        "\n",
        "  #step 7: check if selected position contains a frog\n",
        "  if positions[move]=='-':\n",
        "    print(\"Invalid move\")\n",
        "    continue\n",
        "\n",
        "  # step 8: Initialize a variable empty_index to store the index of a empty leaf\n",
        "  empty_index = 0\n",
        "\n",
        "  #step 9 : check if the selected frog is G (green)\n",
        "  if positions[move]=='G':\n",
        "    if move+1 <=6 and positions[move+1]=='-':\n",
        "      empty_index = move+1\n",
        "    elif move+2 <=6 and positions[move+2]=='-' and positions[move+1]=='B':\n",
        "      empty_index = move+2\n",
        "    else:\n",
        "      print(\"Invalid move\")\n",
        "      continue\n",
        "\n",
        "  #step 10: check if the selected frog is B (brown)\n",
        "  if positions[move]=='B':\n",
        "    if move-1 >=0 and positions[move-1]=='-':\n",
        "      empty_index = move-1\n",
        "    elif move-2 >=0 and positions[move-2]=='-' and positions[move-1]=='G':\n",
        "      empty_index = move-2\n",
        "    else:\n",
        "      print(\"Invalid move\")\n",
        "      continue\n",
        "\n",
        "  #step 11: swap the elements at the selected position\n",
        "  positions[move],positions[empty_index] = positions[empty_index],positions[move]\n",
        "\n",
        "  #step 12 : display the updated game status\n",
        "  print(\"[0 , 1 , 2 , 3 , 4 , 5 , 6 ]\")\n",
        "  print(positions)\n",
        "\n",
        "  #step 13 : Check for winning condition\n",
        "  if positions == ['B','B','B','-','G','G','G']:\n",
        "    print(\"You win\")\n",
        "    break\n"
      ]
    }
  ],
  "metadata": {
    "colab": {
      "provenance": []
    },
    "kernelspec": {
      "display_name": "Python 3",
      "name": "python3"
    },
    "language_info": {
      "name": "python"
    }
  },
  "nbformat": 4,
  "nbformat_minor": 0
}